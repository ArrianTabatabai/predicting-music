{
 "cells": [
  {
   "cell_type": "code",
   "execution_count": 115,
   "id": "bf7c7aca",
   "metadata": {},
   "outputs": [
    {
     "data": {
      "text/plain": [
       "1.0"
      ]
     },
     "execution_count": 115,
     "metadata": {},
     "output_type": "execute_result"
    }
   ],
   "source": [
    "#allocate 70-80% of data for training and 20-30% for testing\n",
    "import pandas as pd\n",
    "from sklearn.tree import DecisionTreeClassifier\n",
    "from sklearn.model_selection import train_test_split\n",
    "from sklearn.metrics import accuracy_score\n",
    "\n",
    "#load music data from CSV file\n",
    "music_data = pd.read_csv('music.csv')\n",
    "\n",
    "#input data set\n",
    "X = music_data.drop(columns=['genre'])\n",
    "#output data set\n",
    "y = music_data['genre']\n",
    "\n",
    "#split dataset into training (0.8) and testing sets (0.2)\n",
    "X_train, X_test, y_train, y_test = train_test_split(X, y, test_size=0.2)\n",
    "\n",
    "#create an instance of DecisionTreeClassifier model\n",
    "model = DecisionTreeClassifier()\n",
    "\n",
    "#train model using training data\n",
    "model.fit(X_train, y_train)\n",
    "\n",
    "#make predictions on the test set\n",
    "predictions = model.predict(X_test)\n",
    "\n",
    "#calculate accuracy of model by comparing predicted labels with actual labels\n",
    "score = accuracy_score(y_test, predictions)\n",
    "score"
   ]
  },
  {
   "cell_type": "code",
   "execution_count": 111,
   "id": "56084265",
   "metadata": {},
   "outputs": [
    {
     "name": "stderr",
     "output_type": "stream",
     "text": [
      "C:\\Users\\bahar\\anaconda3\\lib\\site-packages\\sklearn\\base.py:420: UserWarning: X does not have valid feature names, but DecisionTreeClassifier was fitted with feature names\n",
      "  warnings.warn(\n"
     ]
    },
    {
     "data": {
      "text/plain": [
       "array(['HipHop'], dtype=object)"
      ]
     },
     "execution_count": 111,
     "metadata": {},
     "output_type": "execute_result"
    }
   ],
   "source": [
    "import pandas as pd\n",
    "from sklearn.tree import DecisionTreeClassifier\n",
    "import joblib\n",
    "\n",
    "#FOLLOWING STORED IN 'MUSIC-RECOMMENDER.JOBLIB'\n",
    "# music_data = pd.read_csv('music.csv')\n",
    "# X = music_data.drop(columns=['genre'])\n",
    "# y = music_data['genre']\n",
    "# model = DecisionTreeClassifier()\n",
    "# model.fit(X, y)\n",
    "\n",
    "\n",
    "#after training model, save it\n",
    "model = joblib.load('music-recommender.joblib')\n",
    "\n",
    "#reshape input array\n",
    "input_data = [[21, 1]]\n",
    "\n",
    "#ask model to make prediction\n",
    "predictions = model.predict(input_data)\n",
    "predictions"
   ]
  },
  {
   "cell_type": "code",
   "execution_count": 116,
   "id": "4eb73063",
   "metadata": {},
   "outputs": [],
   "source": [
    "import pandas as pd\n",
    "from sklearn.tree import DecisionTreeClassifier\n",
    "from sklearn import tree\n",
    "\n",
    "#loading music data from CSV file using pandas\n",
    "music_data = pd.read_csv('music.csv')\n",
    "\n",
    "#input dataset (X) and output dataset (y)\n",
    "X = music_data.drop(columns=['genre'])\n",
    "y = music_data['genre']\n",
    "\n",
    "model = DecisionTreeClassifier()\n",
    "model.fit(X, y)\n",
    "\n",
    "#exporting trained decision tree model to DOT file for visualisation\n",
    "tree.export_graphviz(model, out_file='music-recommender.dot', \n",
    "                    feature_names=['age', 'gender'],\n",
    "                    class_names=sorted(y.unique()), #displaying class for each node\n",
    "                    label='all', #every node has a label\n",
    "                    rounded=True, #each node has rounded corners\n",
    "                    filled=True) #each node filled with a colour"
   ]
  }
 ],
 "metadata": {
  "kernelspec": {
   "display_name": "Python 3 (ipykernel)",
   "language": "python",
   "name": "python3"
  },
  "language_info": {
   "codemirror_mode": {
    "name": "ipython",
    "version": 3
   },
   "file_extension": ".py",
   "mimetype": "text/x-python",
   "name": "python",
   "nbconvert_exporter": "python",
   "pygments_lexer": "ipython3",
   "version": "3.10.9"
  }
 },
 "nbformat": 4,
 "nbformat_minor": 5
}
